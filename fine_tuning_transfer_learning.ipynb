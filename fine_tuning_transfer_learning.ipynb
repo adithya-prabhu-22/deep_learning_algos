{
  "nbformat": 4,
  "nbformat_minor": 0,
  "metadata": {
    "colab": {
      "provenance": [],
      "authorship_tag": "ABX9TyMM15QDCsVOc30S+b6+jVdw",
      "include_colab_link": true
    },
    "kernelspec": {
      "name": "python3",
      "display_name": "Python 3"
    },
    "language_info": {
      "name": "python"
    }
  },
  "cells": [
    {
      "cell_type": "markdown",
      "metadata": {
        "id": "view-in-github",
        "colab_type": "text"
      },
      "source": [
        "<a href=\"https://colab.research.google.com/github/adithya-prabhu-22/deep_learning_algos/blob/main/fine_tuning_transfer_learning.ipynb\" target=\"_parent\"><img src=\"https://colab.research.google.com/assets/colab-badge.svg\" alt=\"Open In Colab\"/></a>"
      ]
    },
    {
      "cell_type": "code",
      "source": [
        "from tensorflow.keras.applications import VGG16\n",
        "from tensorflow.keras import models, layers, optimizers\n",
        "from tensorflow.keras.preprocessing.image import ImageDataGenerator\n",
        "from tensorflow.keras.callbacks import EarlyStopping\n",
        "\n",
        "# ----------------------------\n",
        "# 1️⃣ Load Pretrained Base\n",
        "# ----------------------------\n",
        "conv_base = VGG16(\n",
        "    weights='imagenet',\n",
        "    include_top=False,            # exclude the fully connected layers\n",
        "    input_shape=(150, 150, 3)\n",
        ")\n",
        "\n",
        "# ----------------------------\n",
        "# 2️⃣ Freeze Lower Layers\n",
        "# ----------------------------\n",
        "for layer in conv_base.layers[:-4]:   # keep last 4 conv blocks trainable\n",
        "    layer.trainable = False\n",
        "\n",
        "print(\"Trainable layers:\")\n",
        "for i, layer in enumerate(conv_base.layers):\n",
        "    print(i, layer.name, layer.trainable)\n",
        "\n",
        "# ----------------------------\n",
        "# 3️⃣ Add Custom Classifier on Top\n",
        "# ----------------------------\n",
        "model = models.Sequential([\n",
        "    conv_base,\n",
        "    layers.Flatten(),\n",
        "    layers.Dense(256, activation='relu'),\n",
        "    layers.Dropout(0.5),\n",
        "    layers.Dense(1, activation='sigmoid')   # binary classification\n",
        "])\n",
        "\n",
        "# ----------------------------\n",
        "# 4️⃣ Compile the Model\n",
        "# ----------------------------\n",
        "model.compile(\n",
        "    loss='binary_crossentropy',\n",
        "    optimizer=optimizers.Adam(learning_rate=1e-5),\n",
        "    metrics=['accuracy']\n",
        ")"
      ],
      "metadata": {
        "id": "TDgM-yJWp3va"
      },
      "execution_count": null,
      "outputs": []
    }
  ]
}